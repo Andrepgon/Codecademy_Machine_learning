{
 "cells": [
  {
   "cell_type": "markdown",
   "metadata": {},
   "source": [
    "# U.S. Medical Insurance Costs"
   ]
  },
  {
   "cell_type": "code",
   "execution_count": 69,
   "metadata": {},
   "outputs": [],
   "source": [
    "import csv"
   ]
  },
  {
   "cell_type": "code",
   "execution_count": 71,
   "metadata": {},
   "outputs": [],
   "source": [
    "## List of columns"
   ]
  },
  {
   "cell_type": "code",
   "execution_count": 73,
   "metadata": {},
   "outputs": [],
   "source": [
    "# Initialize lists to store the data from each column of the CSV file\n",
    "\n",
    "age = []\n",
    "sex = []\n",
    "bmi = []\n",
    "children = []\n",
    "smoker = []\n",
    "region = []\n",
    "charges = []\n",
    "\n",
    "# Open and read the 'insurance.csv' file using the csv.DictReader to parse the rows as dictionaries\n",
    "with open('insurance.csv', newline ='') as insurance_csv:\n",
    "    insurance_reader = csv.DictReader(insurance_csv)\n",
    "    for row in insurance_reader:\n",
    "        age.append(int(row['age']))       # Convert age to integer\n",
    "        sex.append(row['sex'])            # Store sex as a string\n",
    "        bmi.append(float(row['bmi']))     # Convert BMI to float\n",
    "        children.append(row['children'])  # Store children count (keep as string for now)\n",
    "        smoker.append(row['smoker'])      # Store smoking status as string\n",
    "        region.append(row['region'])      # Store region as string\n",
    "        charges.append(float(row['charges']))  # Convert charges to float"
   ]
  },
  {
   "cell_type": "code",
   "execution_count": 75,
   "metadata": {},
   "outputs": [],
   "source": [
    "##Average Security cost by region:"
   ]
  },
  {
   "cell_type": "code",
   "execution_count": 77,
   "metadata": {},
   "outputs": [
    {
     "name": "stdout",
     "output_type": "stream",
     "text": [
      "{'southwest': 12346.937, 'southeast': 14735.411, 'northwest': 12417.575, 'northeast': 13406.385}\n"
     ]
    }
   ],
   "source": [
    "# 'size' holds the total number of records (rows)\n",
    "size = len(charges) \n",
    "\n",
    "# Create a dictionary to store total charges per region and another to count how many times each region occurs\n",
    "charge_by_region_dict = {} \n",
    "region_repeats = {}\n",
    "\n",
    "# Loop through the data to accumulate charges and occurrences per region\n",
    "for i in range(size):\n",
    "    if region[i] not in charge_by_region_dict:\n",
    "        charge_by_region_dict[region[i]] = 0  # Initialize the region charge\n",
    "        region_repeats[region[i]] = 0         # Initialize the region count\n",
    "\n",
    "    region_repeats[region[i]] += 1            # Count each occurrence of the region\n",
    "    charge_by_region_dict[region[i]] += charges[i]  # Sum up the charges for the region\n",
    "\n",
    "# Calculate the average cost for each region and round to 3 decimal places\n",
    "for item in charge_by_region_dict:\n",
    "    charge_by_region_dict[item] /= region_repeats[item]  # Divide by the number of occurrences\n",
    "    charge_by_region_dict[item] = round(charge_by_region_dict[item], 3)  # Round the result\n",
    "\n",
    "# Print the average insurance cost by region\n",
    "print(charge_by_region_dict)"
   ]
  },
  {
   "cell_type": "code",
   "execution_count": 79,
   "metadata": {},
   "outputs": [],
   "source": [
    "## Average security cost by age"
   ]
  },
  {
   "cell_type": "code",
   "execution_count": 81,
   "metadata": {},
   "outputs": [
    {
     "name": "stdout",
     "output_type": "stream",
     "text": [
      "{18: 7086.22, 19: 9747.91, 20: 10159.7, 21: 4730.46, 22: 10012.93, 23: 12419.82, 24: 10648.02, 25: 9838.37, 26: 6133.83, 27: 12184.7, 28: 9069.19, 29: 10430.16, 30: 12719.11, 31: 10196.98, 32: 9220.3, 33: 12351.53, 34: 11613.53, 35: 11307.18, 36: 12204.48, 37: 18019.91, 38: 8102.73, 39: 11778.24, 40: 11772.25, 41: 9653.75, 42: 13061.04, 43: 19267.28, 44: 15859.4, 45: 14830.2, 46: 14342.59, 47: 17654.0, 48: 14632.5, 49: 12696.01, 50: 15663.0, 51: 15682.26, 52: 18256.27, 53: 16020.93, 54: 18758.55, 55: 16164.55, 56: 15025.52, 57: 16447.19, 58: 13878.93, 59: 18895.87, 60: 21979.42, 61: 22024.46, 62: 19163.86, 63: 19885.0, 64: 23275.53}\n"
     ]
    }
   ],
   "source": [
    "# Create dictionaries to store the total charges per age and the count of occurrences per age\n",
    "charge_by_age_dict = {}\n",
    "age_repeats = {}\n",
    "\n",
    "# Loop through the data to accumulate charges and occurrences per age\n",
    "for i in range(size):\n",
    "    if age[i] not in charge_by_age_dict:\n",
    "        charge_by_age_dict[age[i]] = 0  # Initialize the age charge\n",
    "        age_repeats[age[i]] = 0         # Initialize the age count\n",
    "\n",
    "    age_repeats[age[i]] += 1            # Count each occurrence of the age\n",
    "    charge_by_age_dict[age[i]] += charges[i]  # Sum up the charges for the age\n",
    "\n",
    "# Calculate the average cost for each age and round to 2 decimal places\n",
    "for item in charge_by_age_dict:\n",
    "    charge_by_age_dict[item] /= age_repeats[item]  # Divide by the number of occurrences\n",
    "    charge_by_age_dict[item] = round(charge_by_age_dict[item], 2)  # Round the result\n",
    "\n",
    "# Sort the dictionary by age and print the average insurance cost by age\n",
    "print(dict(sorted(charge_by_age_dict.items())))"
   ]
  },
  {
   "cell_type": "code",
   "execution_count": 83,
   "metadata": {},
   "outputs": [],
   "source": [
    "#Difference between men and woman costs"
   ]
  },
  {
   "cell_type": "code",
   "execution_count": 85,
   "metadata": {},
   "outputs": [
    {
     "name": "stdout",
     "output_type": "stream",
     "text": [
      "Average cost for men: 13956.75\n",
      "Average cost for women: 12569.58\n"
     ]
    }
   ],
   "source": [
    "# Initialize variables to store total costs and counts for both men and women\n",
    "woman_costs = 0\n",
    "men_costs = 0\n",
    "men_count = 0\n",
    "woman_count = 0\n",
    "\n",
    "# Loop through the data and accumulate the costs and counts for men and women separately\n",
    "for i in range(len(charges)):\n",
    "    if sex[i] == 'female':           # Check if the person is female\n",
    "        woman_count += 1\n",
    "        woman_costs += charges[i]     # Sum up the charges for women\n",
    "    else:\n",
    "        men_count += 1\n",
    "        men_costs += charges[i]       # Sum up the charges for men\n",
    "\n",
    "# Print the average cost for men and women, rounded to 2 decimal places\n",
    "print(f'Average cost for men: {round(men_costs/men_count, 2)}')\n",
    "print(f'Average cost for women: {round(woman_costs/woman_count, 2)}')\n"
   ]
  },
  {
   "cell_type": "code",
   "execution_count": 87,
   "metadata": {},
   "outputs": [],
   "source": [
    "#Relation between smokers and number of children"
   ]
  },
  {
   "cell_type": "code",
   "execution_count": 89,
   "metadata": {},
   "outputs": [
    {
     "name": "stdout",
     "output_type": "stream",
     "text": [
      "Average number of children for smokers: 1.11\n",
      "Average number of children for non-smokers: 1.09\n"
     ]
    }
   ],
   "source": [
    "# Initialize variables to calculate total number of children for smokers and non-smokers\n",
    "smokers_children = 0\n",
    "non_smokers_children = 0\n",
    "smokers_count = 0\n",
    "non_smokers_count = 0\n",
    "\n",
    "# Iterate over the dataset and accumulate the number of children based on smoker status\n",
    "for i in range(size):\n",
    "    if smoker[i] == 'yes':\n",
    "        smokers_children += int(children[i])  # Add to total children for smokers\n",
    "        smokers_count += 1  # Increment count for smokers\n",
    "    else:\n",
    "        non_smokers_children += int(children[i])  # Add to total children for non-smokers\n",
    "        non_smokers_count += 1  # Increment count for non-smokers\n",
    "\n",
    "# Calculate and print the average number of children for smokers and non-smokers\n",
    "avg_smokers_children = round(smokers_children / smokers_count, 2)\n",
    "avg_non_smokers_children = round(non_smokers_children / non_smokers_count, 2)\n",
    "\n",
    "print(f\"Average number of children for smokers: {avg_smokers_children}\")\n",
    "print(f\"Average number of children for non-smokers: {avg_non_smokers_children}\")\n",
    "\n"
   ]
  },
  {
   "cell_type": "code",
   "execution_count": 91,
   "metadata": {},
   "outputs": [],
   "source": [
    "##Results"
   ]
  },
  {
   "cell_type": "code",
   "execution_count": 93,
   "metadata": {},
   "outputs": [
    {
     "name": "stdout",
     "output_type": "stream",
     "text": [
      "{'cost_by_region': {'southwest': 12346.937, 'southeast': 14735.411, 'northwest': 12417.575, 'northeast': 13406.385}, 'cost_by_age': {19: 9747.91, 18: 7086.22, 28: 9069.19, 33: 12351.53, 32: 9220.3, 31: 10196.98, 46: 14342.59, 37: 18019.91, 60: 21979.42, 25: 9838.37, 62: 19163.86, 23: 12419.82, 56: 15025.52, 27: 12184.7, 52: 18256.27, 30: 12719.11, 34: 11613.53, 59: 18895.87, 63: 19885.0, 55: 16164.55, 22: 10012.93, 26: 6133.83, 35: 11307.18, 24: 10648.02, 41: 9653.75, 38: 8102.73, 36: 12204.48, 21: 4730.46, 48: 14632.5, 40: 11772.25, 58: 13878.93, 53: 16020.93, 43: 19267.28, 64: 23275.53, 20: 10159.7, 61: 22024.46, 44: 15859.4, 57: 16447.19, 29: 10430.16, 45: 14830.2, 54: 18758.55, 49: 12696.01, 47: 17654.0, 51: 15682.26, 42: 13061.04, 50: 15663.0, 39: 11778.24}, 'cost_per_gender': {'men': 13956.75, 'woman': 12569.58}}\n"
     ]
    }
   ],
   "source": [
    "results = {\n",
    "    'cost_by_region': charge_by_region_dict,\n",
    "    'cost_by_age': charge_by_age_dict,\n",
    "    'cost_per_gender': {\n",
    "        'men': men_avg_cost,\n",
    "        'woman': woman_avg_cost\n",
    "    }\n",
    "}\n",
    "\n",
    "print(results)"
   ]
  },
  {
   "cell_type": "code",
   "execution_count": null,
   "metadata": {},
   "outputs": [],
   "source": []
  }
 ],
 "metadata": {
  "kernelspec": {
   "display_name": "Python 3 (ipykernel)",
   "language": "python",
   "name": "python3"
  },
  "language_info": {
   "codemirror_mode": {
    "name": "ipython",
    "version": 3
   },
   "file_extension": ".py",
   "mimetype": "text/x-python",
   "name": "python",
   "nbconvert_exporter": "python",
   "pygments_lexer": "ipython3",
   "version": "3.12.4"
  }
 },
 "nbformat": 4,
 "nbformat_minor": 4
}
