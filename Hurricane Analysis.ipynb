{
 "cells": [
  {
   "cell_type": "markdown",
   "id": "58875e7a",
   "metadata": {},
   "source": [
    "# Hurricane Analysis"
   ]
  },
  {
   "cell_type": "markdown",
   "id": "9a2d9627",
   "metadata": {},
   "source": [
    "#### Overview"
   ]
  },
  {
   "cell_type": "markdown",
   "id": "633e5dde",
   "metadata": {},
   "source": [
    "This project is slightly different than others you have encountered thus far. Instead of a step-by-step tutorial, this project contains a series of open-ended requirements which describe the project you'll be building. There are many possible ways to correctly fulfill all of these requirements, and you should expect to use the internet, Codecademy, and other resources when you encounter a problem that you cannot easily solve."
   ]
  },
  {
   "cell_type": "markdown",
   "id": "52f01f07",
   "metadata": {},
   "source": [
    "#### Project Goals"
   ]
  },
  {
   "cell_type": "markdown",
   "id": "d9d06c43",
   "metadata": {},
   "source": [
    "You will work to write several functions that organize and manipulate data about Category 5 Hurricanes, the strongest hurricanes as rated by their wind speed. Each one of these functions will use a number of parameters, conditionals, lists, dictionaries, string manipulation, and return statements."
   ]
  },
  {
   "cell_type": "markdown",
   "id": "7fbb9fb5",
   "metadata": {},
   "source": [
    "#### Prerequisites"
   ]
  },
  {
   "cell_type": "markdown",
   "id": "4732a1e8",
   "metadata": {},
   "source": [
    "In order to complete this project, you should have completed the Loops and Dictionaries sections of the [Learn Python 3 Course](https://www.codecademy.com/learn/learn-python-3). This content is also covered in the [Data Scientist Career Path](https://www.codecademy.com/learn/paths/data-science/)."
   ]
  },
  {
   "cell_type": "markdown",
   "id": "1e924903",
   "metadata": {},
   "source": [
    "## Project Requirements"
   ]
  },
  {
   "cell_type": "markdown",
   "id": "35d6f74d",
   "metadata": {},
   "source": [
    "1. Hurricanes, also known as cyclones or typhoons, are one of the most powerful forces of nature on Earth. Due to climate change caused by human activity, the number and intensity of hurricanes has risen, calling for better preparation by the many communities that are devastated by them. As a concerned environmentalist, you want to look at data about the most powerful hurricanes that have occured. \n",
    "\n",
    "   Begin by looking at the `damages` list. The list contains strings representing the total cost in USD(`$`) caused by `34` category 5 hurricanes (wind speeds $\\ge$ 157 mph (252 km/h)) in the Atlantic region. For some of the hurricanes, damage data was not recorded (`\"Damages not recorded\"`), while the rest are written in the format `\"Prefix-B/M\"`, where `B` stands for billions (`1000000000`) and `M` stands for millions (`1000000`).\n",
    "   \n",
    "   Write a function that returns a new list of updated damages where the recorded data is converted to float values and the missing data is retained as `\"Damages not recorded\"`.\n",
    "   \n",
    "   Test your function with the data stored in `damages`."
   ]
  },
  {
   "cell_type": "code",
   "execution_count": 36,
   "id": "d8d3c50b",
   "metadata": {},
   "outputs": [
    {
     "name": "stdout",
     "output_type": "stream",
     "text": [
      "['Damages not recorded', 100000000.0, 'Damages not recorded', 40000000.0, 27900000.0, 5000000.0, 'Damages not recorded', 306000000.0, 2000000.0, 65800000.0, 326000000.0, 60300000.0, 208000000.0, 1420000000.0, 25400000.0, 'Damages not recorded', 1540000000.0, 1240000000.0, 7100000000.0, 10000000000.0, 26500000000.0, 6200000000.0, 5370000000.0, 23300000000.0, 1010000000.0, 125000000000.0, 12000000000.0, 29400000000.0, 1760000000.0, 720000000.0, 15100000000.0, 64800000000.0, 91600000000.0, 25100000000.0]\n"
     ]
    }
   ],
   "source": [
    "# damages (USD($)) of hurricanes\n",
    "damages = ['Damages not recorded', '100M', 'Damages not recorded', '40M',\n",
    "          '27.9M', '5M', 'Damages not recorded', '306M', '2M', '65.8M',\n",
    "          '326M', '60.3M', '208M', '1.42B', '25.4M', 'Damages not recorded',\n",
    "          '1.54B', '1.24B', '7.1B', '10B', '26.5B', '6.2B', '5.37B', '23.3B',\n",
    "          '1.01B', '125B', '12B', '29.4B', '1.76B', '720M', '15.1B', '64.8B',\n",
    "          '91.6B', '25.1B']\n",
    "\n",
    "# 1\n",
    "def update_damage(damages_list):\n",
    "    updated_damages = []\n",
    "    for price in damages_list:\n",
    "        if price == 'Damages not recorded':\n",
    "            updated_damages.append(price)\n",
    "        else:\n",
    "            float_price = float(price[:-1])\n",
    "            if price[-1] == 'M':\n",
    "                float_price *= 1000000\n",
    "            else:\n",
    "                float_price *= 1000000000    \n",
    "            updated_damages.append(float_price)\n",
    "    return updated_damages\n",
    "                \n",
    "                \n",
    "\n",
    "# Update Recorded Damages\n",
    "conversion = {\"M\": 1000000,\n",
    "             \"B\": 1000000000}\n",
    "\n",
    "# test function by updating damages\n",
    "updated_damages = update_damage(damages)\n",
    "print(updated_damages)"
   ]
  },
  {
   "cell_type": "markdown",
   "id": "36ac47b6",
   "metadata": {},
   "source": [
    "2. Additional data collected on the `34` strongest Atlantic hurricanes are provided in a series of lists. The data includes:\n",
    "   - `names`: names of the hurricanes\n",
    "   - `months`: months in which the hurricanes occurred\n",
    "   - `years`: years in which the hurricanes occurred\n",
    "   - `max_sustained_winds`: maximum sustained winds (miles per hour) of the hurricanes\n",
    "   - `areas_affected`: list of different areas affected by each of the hurricanes\n",
    "   - `deaths`: total number of deaths caused by each of the hurricanes\n",
    "   \n",
    "   The data is organized such that the data at each index, from `0` to `33`, corresponds to the same hurricane.\n",
    "   \n",
    "   For example, `names[0]` yields the \"Cuba I\" hurricane, which occurred in `months[0]` (October) `years[0]` (1924).\n",
    "   \n",
    "   Write a function that constructs a dictionary made out of the lists, where the keys of the dictionary are the names of the hurricanes, and the values are dictionaries themselves containing a key for each piece of data (`Name`, `Month`, `Year`, `Max Sustained Wind`, `Areas Affected`, `Damage`, `Death`) about the hurricane.\n",
    "   \n",
    "   Thus the key `\"Cuba I\"` would have the value: `{'Name': 'Cuba I', 'Month': 'October', 'Year': 1924, 'Max Sustained Wind': 165, 'Areas Affected': ['Central America', 'Mexico', 'Cuba', 'Florida', 'The Bahamas'], 'Damage': 'Damages not recorded', 'Deaths': 90}`.\n",
    "   \n",
    "   Test your function on the lists of data provided."
   ]
  },
  {
   "cell_type": "code",
   "execution_count": 26,
   "id": "641aa113",
   "metadata": {},
   "outputs": [
    {
     "name": "stdout",
     "output_type": "stream",
     "text": [
      "{'Cuba I': {'Name': 'Cuba I', 'Month': 'October', 'Year': 1924, 'Max_Sustained_Wind': 165, 'Areas_Affected': ['Central America', 'Mexico', 'Cuba', 'Florida', 'The Bahamas'], 'Damage': 'Damages not recorded', 'Deaths': 90}, 'San Felipe II Okeechobee': {'Name': 'San Felipe II Okeechobee', 'Month': 'September', 'Year': 1928, 'Max_Sustained_Wind': 160, 'Areas_Affected': ['Lesser Antilles', 'The Bahamas', 'United States East Coast', 'Atlantic Canada'], 'Damage': '100M', 'Deaths': 4000}, 'Bahamas': {'Name': 'Bahamas', 'Month': 'September', 'Year': 1932, 'Max_Sustained_Wind': 160, 'Areas_Affected': ['The Bahamas', 'Northeastern United States'], 'Damage': 'Damages not recorded', 'Deaths': 16}, 'Cuba II': {'Name': 'Cuba II', 'Month': 'November', 'Year': 1932, 'Max_Sustained_Wind': 175, 'Areas_Affected': ['Lesser Antilles', 'Jamaica', 'Cayman Islands', 'Cuba', 'The Bahamas', 'Bermuda'], 'Damage': '40M', 'Deaths': 3103}, 'CubaBrownsville': {'Name': 'CubaBrownsville', 'Month': 'August', 'Year': 1933, 'Max_Sustained_Wind': 160, 'Areas_Affected': ['The Bahamas', 'Cuba', 'Florida', 'Texas', 'Tamaulipas'], 'Damage': '27.9M', 'Deaths': 179}, 'Tampico': {'Name': 'Tampico', 'Month': 'September', 'Year': 1933, 'Max_Sustained_Wind': 160, 'Areas_Affected': ['Jamaica', 'Yucatn Peninsula'], 'Damage': '5M', 'Deaths': 184}, 'Labor Day': {'Name': 'Labor Day', 'Month': 'September', 'Year': 1935, 'Max_Sustained_Wind': 185, 'Areas_Affected': ['The Bahamas', 'Florida', 'Georgia', 'The Carolinas', 'Virginia'], 'Damage': 'Damages not recorded', 'Deaths': 408}, 'New England': {'Name': 'New England', 'Month': 'September', 'Year': 1938, 'Max_Sustained_Wind': 160, 'Areas_Affected': ['Southeastern United States', 'Northeastern United States', 'Southwestern Quebec'], 'Damage': '306M', 'Deaths': 682}, 'Carol': {'Name': 'Carol', 'Month': 'September', 'Year': 1953, 'Max_Sustained_Wind': 160, 'Areas_Affected': ['Bermuda', 'New England', 'Atlantic Canada'], 'Damage': '2M', 'Deaths': 5}, 'Janet': {'Name': 'Janet', 'Month': 'September', 'Year': 1955, 'Max_Sustained_Wind': 175, 'Areas_Affected': ['Lesser Antilles', 'Central America'], 'Damage': '65.8M', 'Deaths': 1023}, 'Carla': {'Name': 'Carla', 'Month': 'September', 'Year': 1961, 'Max_Sustained_Wind': 175, 'Areas_Affected': ['Texas', 'Louisiana', 'Midwestern United States'], 'Damage': '326M', 'Deaths': 43}, 'Hattie': {'Name': 'Hattie', 'Month': 'October', 'Year': 1961, 'Max_Sustained_Wind': 160, 'Areas_Affected': ['Central America'], 'Damage': '60.3M', 'Deaths': 319}, 'Beulah': {'Name': 'Beulah', 'Month': 'September', 'Year': 1967, 'Max_Sustained_Wind': 160, 'Areas_Affected': ['The Caribbean', 'Mexico', 'Texas'], 'Damage': '208M', 'Deaths': 688}, 'Camille': {'Name': 'Camille', 'Month': 'August', 'Year': 1969, 'Max_Sustained_Wind': 175, 'Areas_Affected': ['Cuba', 'United States Gulf Coast'], 'Damage': '1.42B', 'Deaths': 259}, 'Edith': {'Name': 'Edith', 'Month': 'September', 'Year': 1971, 'Max_Sustained_Wind': 160, 'Areas_Affected': ['The Caribbean', 'Central America', 'Mexico', 'United States Gulf Coast'], 'Damage': '25.4M', 'Deaths': 37}, 'Anita': {'Name': 'Anita', 'Month': 'September', 'Year': 1977, 'Max_Sustained_Wind': 175, 'Areas_Affected': ['Mexico'], 'Damage': 'Damages not recorded', 'Deaths': 11}, 'David': {'Name': 'David', 'Month': 'August', 'Year': 1979, 'Max_Sustained_Wind': 175, 'Areas_Affected': ['The Caribbean', 'United States East coast'], 'Damage': '1.54B', 'Deaths': 2068}, 'Allen': {'Name': 'Allen', 'Month': 'August', 'Year': 1980, 'Max_Sustained_Wind': 190, 'Areas_Affected': ['The Caribbean', 'Yucatn Peninsula', 'Mexico', 'South Texas'], 'Damage': '1.24B', 'Deaths': 269}, 'Gilbert': {'Name': 'Gilbert', 'Month': 'September', 'Year': 1988, 'Max_Sustained_Wind': 185, 'Areas_Affected': ['Jamaica', 'Venezuela', 'Central America', 'Hispaniola', 'Mexico'], 'Damage': '7.1B', 'Deaths': 318}, 'Hugo': {'Name': 'Hugo', 'Month': 'September', 'Year': 1989, 'Max_Sustained_Wind': 160, 'Areas_Affected': ['The Caribbean', 'United States East Coast'], 'Damage': '10B', 'Deaths': 107}, 'Andrew': {'Name': 'Andrew', 'Month': 'August', 'Year': 1992, 'Max_Sustained_Wind': 175, 'Areas_Affected': ['The Bahamas', 'Florida', 'United States Gulf Coast'], 'Damage': '26.5B', 'Deaths': 65}, 'Mitch': {'Name': 'Mitch', 'Month': 'October', 'Year': 1998, 'Max_Sustained_Wind': 180, 'Areas_Affected': ['Central America', 'Yucatn Peninsula', 'South Florida'], 'Damage': '6.2B', 'Deaths': 19325}, 'Isabel': {'Name': 'Isabel', 'Month': 'September', 'Year': 2003, 'Max_Sustained_Wind': 165, 'Areas_Affected': ['Greater Antilles', 'Bahamas', 'Eastern United States', 'Ontario'], 'Damage': '5.37B', 'Deaths': 51}, 'Ivan': {'Name': 'Ivan', 'Month': 'September', 'Year': 2004, 'Max_Sustained_Wind': 165, 'Areas_Affected': ['The Caribbean', 'Venezuela', 'United States Gulf Coast'], 'Damage': '23.3B', 'Deaths': 124}, 'Emily': {'Name': 'Emily', 'Month': 'July', 'Year': 2005, 'Max_Sustained_Wind': 160, 'Areas_Affected': ['Windward Islands', 'Jamaica', 'Mexico', 'Texas'], 'Damage': '1.01B', 'Deaths': 17}, 'Katrina': {'Name': 'Katrina', 'Month': 'August', 'Year': 2005, 'Max_Sustained_Wind': 175, 'Areas_Affected': ['Bahamas', 'United States Gulf Coast'], 'Damage': '125B', 'Deaths': 1836}, 'Rita': {'Name': 'Rita', 'Month': 'September', 'Year': 2005, 'Max_Sustained_Wind': 180, 'Areas_Affected': ['Cuba', 'United States Gulf Coast'], 'Damage': '12B', 'Deaths': 125}, 'Wilma': {'Name': 'Wilma', 'Month': 'October', 'Year': 2005, 'Max_Sustained_Wind': 185, 'Areas_Affected': ['Greater Antilles', 'Central America', 'Florida'], 'Damage': '29.4B', 'Deaths': 87}, 'Dean': {'Name': 'Dean', 'Month': 'August', 'Year': 2007, 'Max_Sustained_Wind': 175, 'Areas_Affected': ['The Caribbean', 'Central America'], 'Damage': '1.76B', 'Deaths': 45}, 'Felix': {'Name': 'Felix', 'Month': 'September', 'Year': 2007, 'Max_Sustained_Wind': 175, 'Areas_Affected': ['Nicaragua', 'Honduras'], 'Damage': '720M', 'Deaths': 133}, 'Matthew': {'Name': 'Matthew', 'Month': 'October', 'Year': 2016, 'Max_Sustained_Wind': 165, 'Areas_Affected': ['Antilles', 'Venezuela', 'Colombia', 'United States East Coast', 'Atlantic Canada'], 'Damage': '15.1B', 'Deaths': 603}, 'Irma': {'Name': 'Irma', 'Month': 'September', 'Year': 2017, 'Max_Sustained_Wind': 180, 'Areas_Affected': ['Cape Verde', 'The Caribbean', 'British Virgin Islands', 'U.S. Virgin Islands', 'Cuba', 'Florida'], 'Damage': '64.8B', 'Deaths': 138}, 'Maria': {'Name': 'Maria', 'Month': 'September', 'Year': 2017, 'Max_Sustained_Wind': 175, 'Areas_Affected': ['Lesser Antilles', 'Virgin Islands', 'Puerto Rico', 'Dominican Republic', 'Turks and Caicos Islands'], 'Damage': '91.6B', 'Deaths': 3057}, 'Michael': {'Name': 'Michael', 'Month': 'October', 'Year': 2018, 'Max_Sustained_Wind': 160, 'Areas_Affected': ['Central America', 'United States Gulf Coast (especially Florida Panhandle)'], 'Damage': '25.1B', 'Deaths': 74}}\n"
     ]
    }
   ],
   "source": [
    "# names of hurricanes\n",
    "names = ['Cuba I', 'San Felipe II Okeechobee', 'Bahamas', 'Cuba II', 'CubaBrownsville', 'Tampico', 'Labor Day', 'New England', 'Carol', 'Janet', 'Carla', 'Hattie', 'Beulah', 'Camille', 'Edith', 'Anita', 'David', 'Allen', 'Gilbert', 'Hugo', 'Andrew', 'Mitch', 'Isabel', 'Ivan', 'Emily', 'Katrina', 'Rita', 'Wilma', 'Dean', 'Felix', 'Matthew', 'Irma', 'Maria', 'Michael']\n",
    "\n",
    "# months of hurricanes\n",
    "months = ['October', 'September', 'September', 'November', 'August', 'September', 'September', 'September', 'September', 'September', 'September', 'October', 'September', 'August', 'September', 'September', 'August', 'August', 'September', 'September', 'August', 'October', 'September', 'September', 'July', 'August', 'September', 'October', 'August', 'September', 'October', 'September', 'September', 'October']\n",
    "\n",
    "# years of hurricanes\n",
    "years = [1924, 1928, 1932, 1932, 1933, 1933, 1935, 1938, 1953, 1955, 1961, 1961, 1967, 1969, 1971, 1977, 1979, 1980, 1988, 1989, 1992, 1998, 2003, 2004, 2005, 2005, 2005, 2005, 2007, 2007, 2016, 2017, 2017, 2018]\n",
    "\n",
    "# maximum sustained winds (mph) of hurricanes\n",
    "max_sustained_winds = [165, 160, 160, 175, 160, 160, 185, 160, 160, 175, 175, 160, 160, 175, 160, 175, 175, 190, 185, 160, 175, 180, 165, 165, 160, 175, 180, 185, 175, 175, 165, 180, 175, 160]\n",
    "\n",
    "# areas affected by each hurricane\n",
    "areas_affected = [['Central America', 'Mexico', 'Cuba', 'Florida', 'The Bahamas'], ['Lesser Antilles', 'The Bahamas', 'United States East Coast', 'Atlantic Canada'], ['The Bahamas', 'Northeastern United States'], ['Lesser Antilles', 'Jamaica', 'Cayman Islands', 'Cuba', 'The Bahamas', 'Bermuda'], ['The Bahamas', 'Cuba', 'Florida', 'Texas', 'Tamaulipas'], ['Jamaica', 'Yucatn Peninsula'], ['The Bahamas', 'Florida', 'Georgia', 'The Carolinas', 'Virginia'], ['Southeastern United States', 'Northeastern United States', 'Southwestern Quebec'], ['Bermuda', 'New England', 'Atlantic Canada'], ['Lesser Antilles', 'Central America'], ['Texas', 'Louisiana', 'Midwestern United States'], ['Central America'], ['The Caribbean', 'Mexico', 'Texas'], ['Cuba', 'United States Gulf Coast'], ['The Caribbean', 'Central America', 'Mexico', 'United States Gulf Coast'], ['Mexico'], ['The Caribbean', 'United States East coast'], ['The Caribbean', 'Yucatn Peninsula', 'Mexico', 'South Texas'], ['Jamaica', 'Venezuela', 'Central America', 'Hispaniola', 'Mexico'], ['The Caribbean', 'United States East Coast'], ['The Bahamas', 'Florida', 'United States Gulf Coast'], ['Central America', 'Yucatn Peninsula', 'South Florida'], ['Greater Antilles', 'Bahamas', 'Eastern United States', 'Ontario'], ['The Caribbean', 'Venezuela', 'United States Gulf Coast'], ['Windward Islands', 'Jamaica', 'Mexico', 'Texas'], ['Bahamas', 'United States Gulf Coast'], ['Cuba', 'United States Gulf Coast'], ['Greater Antilles', 'Central America', 'Florida'], ['The Caribbean', 'Central America'], ['Nicaragua', 'Honduras'], ['Antilles', 'Venezuela', 'Colombia', 'United States East Coast', 'Atlantic Canada'], ['Cape Verde', 'The Caribbean', 'British Virgin Islands', 'U.S. Virgin Islands', 'Cuba', 'Florida'], ['Lesser Antilles', 'Virgin Islands', 'Puerto Rico', 'Dominican Republic', 'Turks and Caicos Islands'], ['Central America', 'United States Gulf Coast (especially Florida Panhandle)']]\n",
    "\n",
    "# damages (USD($)) of hurricanes\n",
    "damages = ['Damages not recorded', '100M', 'Damages not recorded', '40M', '27.9M', '5M', 'Damages not recorded', '306M', '2M', '65.8M', '326M', '60.3M', '208M', '1.42B', '25.4M', 'Damages not recorded', '1.54B', '1.24B', '7.1B', '10B', '26.5B', '6.2B', '5.37B', '23.3B', '1.01B', '125B', '12B', '29.4B', '1.76B', '720M', '15.1B', '64.8B', '91.6B', '25.1B']\n",
    "\n",
    "# deaths for each hurricane\n",
    "deaths = [90,4000,16,3103,179,184,408,682,5,1023,43,319,688,259,37,11,2068,269,318,107,65,19325,51,124,17,1836,125,87,45,133,603,138,3057,74]\n",
    "\n",
    "# 2\n",
    "def hurricane_dict(hurricane_table):\n",
    "    list_individual_dict = []\n",
    "    individual_keys = ['Name', 'Month', 'Year', 'Max_Sustained_Wind', 'Areas_Affected', 'Damage', 'Deaths']\n",
    "    \n",
    "    for hurricanes in range(len(names)): #creating the individual dictinaries of every single hurricane and putting in a list\n",
    "        individual_dict = {}\n",
    "        individual_values = []\n",
    "        for keys in range(len(hurricane_table)):\n",
    "           individual_values.append(hurricane_table[keys][hurricanes])\n",
    "        for index in range(len(individual_values)):\n",
    "            individual_dict[individual_keys[index]] = individual_values[index]\n",
    "        list_individual_dict.append(individual_dict)\n",
    "    \n",
    "    hurricanes_dict = {key:value for key, value in zip(names, list_individual_dict)}\n",
    "    return hurricanes_dict  \n",
    "# Create a Table\n",
    "hurricane_table = [names, months, years, max_sustained_winds, areas_affected, damages, deaths]\n",
    "# Create and view the hurricanes dictionary\n",
    "hurricane_dictionary = hurricane_dict(hurricane_table)\n",
    "print(hurricane_dictionary)"
   ]
  },
  {
   "cell_type": "markdown",
   "id": "6d0a1933",
   "metadata": {},
   "source": [
    "3. In addition to organizing the hurricanes in a dictionary with names as the key, you want to be able to organize the hurricanes by year.\n",
    "\n",
    "   Write a function that converts the current dictionary of hurricanes to a new dictionary, where the keys are years and the values are lists containing a dictionary for each hurricane that occurred in that year.\n",
    "   \n",
    "   For example, the key `1932` would yield the value: `[{'Name': 'Bahamas', 'Month': 'September', 'Year': 1932, 'Max Sustained Wind': 160, 'Areas Affected': ['The Bahamas', 'Northeastern United States'], 'Damage': 'Damage not recorded', 'Deaths': 16}, {'Name': 'Cuba II', 'Month': 'November', 'Year': 1932, 'Max Sustained Wind': 175, 'Areas Affected': ['Lesser Antilles', 'Jamaica', 'Cayman Islands', 'Cuba', 'The Bahamas', 'Bermuda'], 'Damage': 40000000.0, 'Deaths': 3103}]`.\n",
    "   \n",
    "   Test your function on your hurricane dictionary."
   ]
  },
  {
   "cell_type": "code",
   "execution_count": 11,
   "id": "1ef2edea",
   "metadata": {},
   "outputs": [
    {
     "name": "stdout",
     "output_type": "stream",
     "text": [
      "{1924: [{'Name': 'Cuba I', 'Month': 'October', 'Year': 1924, 'Max_Sustained_Wind': 165, 'Areas_Affected': ['Central America', 'Mexico', 'Cuba', 'Florida', 'The Bahamas'], 'Damage': 'Damages not recorded', 'Deaths': 90}], 1928: [{'Name': 'San Felipe II Okeechobee', 'Month': 'September', 'Year': 1928, 'Max_Sustained_Wind': 160, 'Areas_Affected': ['Lesser Antilles', 'The Bahamas', 'United States East Coast', 'Atlantic Canada'], 'Damage': '100M', 'Deaths': 4000}], 1932: [{'Name': 'Bahamas', 'Month': 'September', 'Year': 1932, 'Max_Sustained_Wind': 160, 'Areas_Affected': ['The Bahamas', 'Northeastern United States'], 'Damage': 'Damages not recorded', 'Deaths': 16}, {'Name': 'Cuba II', 'Month': 'November', 'Year': 1932, 'Max_Sustained_Wind': 175, 'Areas_Affected': ['Lesser Antilles', 'Jamaica', 'Cayman Islands', 'Cuba', 'The Bahamas', 'Bermuda'], 'Damage': '40M', 'Deaths': 3103}], 1933: [{'Name': 'CubaBrownsville', 'Month': 'August', 'Year': 1933, 'Max_Sustained_Wind': 160, 'Areas_Affected': ['The Bahamas', 'Cuba', 'Florida', 'Texas', 'Tamaulipas'], 'Damage': '27.9M', 'Deaths': 179}, {'Name': 'Tampico', 'Month': 'September', 'Year': 1933, 'Max_Sustained_Wind': 160, 'Areas_Affected': ['Jamaica', 'Yucatn Peninsula'], 'Damage': '5M', 'Deaths': 184}], 1935: [{'Name': 'Labor Day', 'Month': 'September', 'Year': 1935, 'Max_Sustained_Wind': 185, 'Areas_Affected': ['The Bahamas', 'Florida', 'Georgia', 'The Carolinas', 'Virginia'], 'Damage': 'Damages not recorded', 'Deaths': 408}], 1938: [{'Name': 'New England', 'Month': 'September', 'Year': 1938, 'Max_Sustained_Wind': 160, 'Areas_Affected': ['Southeastern United States', 'Northeastern United States', 'Southwestern Quebec'], 'Damage': '306M', 'Deaths': 682}], 1953: [{'Name': 'Carol', 'Month': 'September', 'Year': 1953, 'Max_Sustained_Wind': 160, 'Areas_Affected': ['Bermuda', 'New England', 'Atlantic Canada'], 'Damage': '2M', 'Deaths': 5}], 1955: [{'Name': 'Janet', 'Month': 'September', 'Year': 1955, 'Max_Sustained_Wind': 175, 'Areas_Affected': ['Lesser Antilles', 'Central America'], 'Damage': '65.8M', 'Deaths': 1023}], 1961: [{'Name': 'Carla', 'Month': 'September', 'Year': 1961, 'Max_Sustained_Wind': 175, 'Areas_Affected': ['Texas', 'Louisiana', 'Midwestern United States'], 'Damage': '326M', 'Deaths': 43}, {'Name': 'Hattie', 'Month': 'October', 'Year': 1961, 'Max_Sustained_Wind': 160, 'Areas_Affected': ['Central America'], 'Damage': '60.3M', 'Deaths': 319}], 1967: [{'Name': 'Beulah', 'Month': 'September', 'Year': 1967, 'Max_Sustained_Wind': 160, 'Areas_Affected': ['The Caribbean', 'Mexico', 'Texas'], 'Damage': '208M', 'Deaths': 688}], 1969: [{'Name': 'Camille', 'Month': 'August', 'Year': 1969, 'Max_Sustained_Wind': 175, 'Areas_Affected': ['Cuba', 'United States Gulf Coast'], 'Damage': '1.42B', 'Deaths': 259}], 1971: [{'Name': 'Edith', 'Month': 'September', 'Year': 1971, 'Max_Sustained_Wind': 160, 'Areas_Affected': ['The Caribbean', 'Central America', 'Mexico', 'United States Gulf Coast'], 'Damage': '25.4M', 'Deaths': 37}], 1977: [{'Name': 'Anita', 'Month': 'September', 'Year': 1977, 'Max_Sustained_Wind': 175, 'Areas_Affected': ['Mexico'], 'Damage': 'Damages not recorded', 'Deaths': 11}], 1979: [{'Name': 'David', 'Month': 'August', 'Year': 1979, 'Max_Sustained_Wind': 175, 'Areas_Affected': ['The Caribbean', 'United States East coast'], 'Damage': '1.54B', 'Deaths': 2068}], 1980: [{'Name': 'Allen', 'Month': 'August', 'Year': 1980, 'Max_Sustained_Wind': 190, 'Areas_Affected': ['The Caribbean', 'Yucatn Peninsula', 'Mexico', 'South Texas'], 'Damage': '1.24B', 'Deaths': 269}], 1988: [{'Name': 'Gilbert', 'Month': 'September', 'Year': 1988, 'Max_Sustained_Wind': 185, 'Areas_Affected': ['Jamaica', 'Venezuela', 'Central America', 'Hispaniola', 'Mexico'], 'Damage': '7.1B', 'Deaths': 318}], 1989: [{'Name': 'Hugo', 'Month': 'September', 'Year': 1989, 'Max_Sustained_Wind': 160, 'Areas_Affected': ['The Caribbean', 'United States East Coast'], 'Damage': '10B', 'Deaths': 107}], 1992: [{'Name': 'Andrew', 'Month': 'August', 'Year': 1992, 'Max_Sustained_Wind': 175, 'Areas_Affected': ['The Bahamas', 'Florida', 'United States Gulf Coast'], 'Damage': '26.5B', 'Deaths': 65}], 1998: [{'Name': 'Mitch', 'Month': 'October', 'Year': 1998, 'Max_Sustained_Wind': 180, 'Areas_Affected': ['Central America', 'Yucatn Peninsula', 'South Florida'], 'Damage': '6.2B', 'Deaths': 19325}], 2003: [{'Name': 'Isabel', 'Month': 'September', 'Year': 2003, 'Max_Sustained_Wind': 165, 'Areas_Affected': ['Greater Antilles', 'Bahamas', 'Eastern United States', 'Ontario'], 'Damage': '5.37B', 'Deaths': 51}], 2004: [{'Name': 'Ivan', 'Month': 'September', 'Year': 2004, 'Max_Sustained_Wind': 165, 'Areas_Affected': ['The Caribbean', 'Venezuela', 'United States Gulf Coast'], 'Damage': '23.3B', 'Deaths': 124}], 2005: [{'Name': 'Emily', 'Month': 'July', 'Year': 2005, 'Max_Sustained_Wind': 160, 'Areas_Affected': ['Windward Islands', 'Jamaica', 'Mexico', 'Texas'], 'Damage': '1.01B', 'Deaths': 17}, {'Name': 'Katrina', 'Month': 'August', 'Year': 2005, 'Max_Sustained_Wind': 175, 'Areas_Affected': ['Bahamas', 'United States Gulf Coast'], 'Damage': '125B', 'Deaths': 1836}, {'Name': 'Rita', 'Month': 'September', 'Year': 2005, 'Max_Sustained_Wind': 180, 'Areas_Affected': ['Cuba', 'United States Gulf Coast'], 'Damage': '12B', 'Deaths': 125}, {'Name': 'Wilma', 'Month': 'October', 'Year': 2005, 'Max_Sustained_Wind': 185, 'Areas_Affected': ['Greater Antilles', 'Central America', 'Florida'], 'Damage': '29.4B', 'Deaths': 87}], 2007: [{'Name': 'Dean', 'Month': 'August', 'Year': 2007, 'Max_Sustained_Wind': 175, 'Areas_Affected': ['The Caribbean', 'Central America'], 'Damage': '1.76B', 'Deaths': 45}, {'Name': 'Felix', 'Month': 'September', 'Year': 2007, 'Max_Sustained_Wind': 175, 'Areas_Affected': ['Nicaragua', 'Honduras'], 'Damage': '720M', 'Deaths': 133}], 2016: [{'Name': 'Matthew', 'Month': 'October', 'Year': 2016, 'Max_Sustained_Wind': 165, 'Areas_Affected': ['Antilles', 'Venezuela', 'Colombia', 'United States East Coast', 'Atlantic Canada'], 'Damage': '15.1B', 'Deaths': 603}], 2017: [{'Name': 'Irma', 'Month': 'September', 'Year': 2017, 'Max_Sustained_Wind': 180, 'Areas_Affected': ['Cape Verde', 'The Caribbean', 'British Virgin Islands', 'U.S. Virgin Islands', 'Cuba', 'Florida'], 'Damage': '64.8B', 'Deaths': 138}, {'Name': 'Maria', 'Month': 'September', 'Year': 2017, 'Max_Sustained_Wind': 175, 'Areas_Affected': ['Lesser Antilles', 'Virgin Islands', 'Puerto Rico', 'Dominican Republic', 'Turks and Caicos Islands'], 'Damage': '91.6B', 'Deaths': 3057}], 2018: [{'Name': 'Michael', 'Month': 'October', 'Year': 2018, 'Max_Sustained_Wind': 160, 'Areas_Affected': ['Central America', 'United States Gulf Coast (especially Florida Panhandle)'], 'Damage': '25.1B', 'Deaths': 74}]}\n"
     ]
    }
   ],
   "source": [
    "# 3\n",
    "# Organizing by Year\n",
    "def Year_hurricanes_dict(hurricane_table):\n",
    "    list_individual_dict = []\n",
    "    unique_year = []\n",
    "    list_dicts_by_year = []\n",
    "    individual_keys = ['Name', 'Month', 'Year', 'Max_Sustained_Wind', 'Areas_Affected', 'Damage', 'Deaths']\n",
    "    \n",
    "    for hurricanes in range(len(names)): #creating the individual dictinaries of every single hurricane and putting in a list\n",
    "        individual_dict = {}\n",
    "        individual_values = []\n",
    "        for keys in range(len(hurricane_table)):\n",
    "           individual_values.append(hurricane_table[keys][hurricanes])\n",
    "        for index in range(len(individual_values)):\n",
    "            individual_dict[individual_keys[index]] = individual_values[index]\n",
    "        list_individual_dict.append(individual_dict)\n",
    "\n",
    "    for year in years:\n",
    "        if year not in unique_year:\n",
    "            unique_year.append(year)\n",
    "\n",
    "    for year in unique_year:\n",
    "        list_dicts_specific_year = []\n",
    "        for dict in list_individual_dict:\n",
    "            if dict.get('Year') == year:\n",
    "                list_dicts_specific_year.append(dict)\n",
    "        list_dicts_by_year.append(list_dicts_specific_year)\n",
    "\n",
    "    Year_hurricanes_dict = {key:value for key,value in zip(unique_year, list_dicts_by_year)}\n",
    "    return Year_hurricanes_dict\n",
    "        \n",
    "# create a new dictionary of hurricanes with year and key\n",
    "print(Year_hurricanes_dict(hurricane_table))"
   ]
  },
  {
   "cell_type": "markdown",
   "id": "66973f77",
   "metadata": {},
   "source": [
    "4. You believe that knowing how often each of the areas of the Atlantic are affected by these strong hurricanes is important for making preparations for future hurricanes.\n",
    "\n",
    "   Write a function that counts how often each area is listed as an affected area of a hurricane. Store and return the results in a dictionary where the keys are the affected areas and the values are counts of how many times the areas were affected.\n",
    "   \n",
    "   Test your function on your hurricane dictionary."
   ]
  },
  {
   "cell_type": "code",
   "execution_count": 14,
   "id": "bff86f77",
   "metadata": {},
   "outputs": [
    {
     "name": "stdout",
     "output_type": "stream",
     "text": [
      "{'Central America': 9, 'Mexico': 7, 'Cuba': 6, 'Florida': 6, 'The Bahamas': 7, 'Lesser Antilles': 4, 'United States East Coast': 3, 'Atlantic Canada': 3, 'Northeastern United States': 2, 'Jamaica': 4, 'Cayman Islands': 1, 'Bermuda': 2, 'Texas': 4, 'Tamaulipas': 1, 'Yucatn Peninsula': 3, 'Georgia': 1, 'The Carolinas': 1, 'Virginia': 1, 'Southeastern United States': 1, 'Southwestern Quebec': 1, 'New England': 1, 'Louisiana': 1, 'Midwestern United States': 1, 'The Caribbean': 8, 'United States Gulf Coast': 6, 'United States East coast': 1, 'South Texas': 1, 'Venezuela': 3, 'Hispaniola': 1, 'South Florida': 1, 'Greater Antilles': 2, 'Bahamas': 2, 'Eastern United States': 1, 'Ontario': 1, 'Windward Islands': 1, 'Nicaragua': 1, 'Honduras': 1, 'Antilles': 1, 'Colombia': 1, 'Cape Verde': 1, 'British Virgin Islands': 1, 'U.S. Virgin Islands': 1, 'Virgin Islands': 1, 'Puerto Rico': 1, 'Dominican Republic': 1, 'Turks and Caicos Islands': 1, 'United States Gulf Coast (especially Florida Panhandle)': 1}\n"
     ]
    }
   ],
   "source": [
    "# 4\n",
    "# Counting Damaged Areas \n",
    "def affected_areas(areas):\n",
    "    affected_areas = {}\n",
    "    for region in areas:\n",
    "        for local in region:\n",
    "            if local not in affected_areas:\n",
    "                affected_areas[local] = 1\n",
    "            else:\n",
    "                affected_areas[local] += 1\n",
    "    return affected_areas\n",
    "# create dictionary of areas to store the number of hurricanes involved in\n",
    "affected_areas = affected_areas(areas_affected)\n",
    "print(affected_areas)"
   ]
  },
  {
   "cell_type": "markdown",
   "id": "e015eeb3",
   "metadata": {},
   "source": [
    "5. Write a function that finds the area affected by the most hurricanes, and how often it was hit.\n",
    "\n",
    "   Test your function on your affected area dictionary."
   ]
  },
  {
   "cell_type": "code",
   "execution_count": 17,
   "id": "643c73f9",
   "metadata": {},
   "outputs": [
    {
     "name": "stdout",
     "output_type": "stream",
     "text": [
      "The most frequently area affected is Central America, which had 9 hurricanes\n"
     ]
    }
   ],
   "source": [
    "# 5\n",
    "# Calculating Maximum Hurricane Count\n",
    "def most_hurricanes(affected_areas):\n",
    "    most_affected = max(affected_areas, key=affected_areas.get)\n",
    "    return most_affected\n",
    "\n",
    "# find most frequently affected area and the number of hurricanes involved in\n",
    "most_affected_area = most_hurricanes(affected_areas)\n",
    "print(f'The most frequently area affected is {most_affected_area}, which had {affected_areas[most_affected_area]} hurricanes')"
   ]
  },
  {
   "cell_type": "markdown",
   "id": "4c120f59",
   "metadata": {},
   "source": [
    "6. Write a function that finds the hurricane that caused the greatest number of deaths, and how many deaths it caused.\n",
    "\n",
    "   Test your function on your hurricane dictionary."
   ]
  },
  {
   "cell_type": "code",
   "execution_count": 30,
   "id": "ced02448",
   "metadata": {},
   "outputs": [
    {
     "name": "stdout",
     "output_type": "stream",
     "text": [
      "The Deadliest place is Mitch with 19325 deaths\n"
     ]
    }
   ],
   "source": [
    "# 6\n",
    "# Calculating the Deadliest Hurricane\n",
    "def deadliest_hurricane(dictionary): #hurricane_dict, keys are the locals, values are other dictionaries\n",
    "    Most_deaths = 0\n",
    "    Deadliest_place = \"\"\n",
    "    for hurricane in dictionary.values():\n",
    "        if hurricane['Deaths'] >= Most_deaths:\n",
    "            Most_deaths = hurricane['Deaths']\n",
    "            Deadliest_place = hurricane['Name']\n",
    "\n",
    "    print(f'The Deadliest place is {Deadliest_place} with {Most_deaths} deaths')\n",
    "    return\n",
    "        \n",
    "    \n",
    "# find highest mortality hurricane and the number of deaths\n",
    "\n",
    "deadliest_hurricane(hurricane_dictionary)"
   ]
  },
  {
   "cell_type": "markdown",
   "id": "9ddd39b0",
   "metadata": {},
   "source": [
    "7. Just as hurricanes are rated by their windspeed, you want to try rating hurricanes based on other metrics.\n",
    "\n",
    "   Write a function that rates hurricanes on a mortality scale according to the following ratings, where the key is the rating and the value is the upper bound of deaths for that rating.\n",
    "   \n",
    "   ```py\n",
    "   mortality_scale = {0: 0,\n",
    "   1: 100,\n",
    "   2: 500,\n",
    "   3: 1000,\n",
    "   4: 10000}\n",
    "   ```\n",
    "   \n",
    "   For example, a hurricane with a `1` mortality rating would have resulted in greater than `0` but less than or equal to `100` deaths. A hurricane with a `5` mortality would have resulted in greater than `10000` deaths.\n",
    "   \n",
    "   Store the hurricanes in a new dictionary where the keys are the mortaility ratings and the values are lists containing a dictionary for each hurricane that falls into that mortality rating.\n",
    "   \n",
    "   Test your function on your hurricane dictionary."
   ]
  },
  {
   "cell_type": "code",
   "execution_count": 32,
   "id": "9eea4dc7",
   "metadata": {},
   "outputs": [],
   "source": [
    "def hurricane_mortality(hurricane_dictionary):\n",
    "    # Definindo os limites de mortalidade\n",
    "    mortality_scale = {0: 0, 1: 100, 2: 500, 3: 1000, 4: 10000}\n",
    "    \n",
    "    # Dicionário final para categorizar os furacões\n",
    "    mortality_dict = {0: [], 1: [], 2: [], 3: [], 4: [], 5: []}\n",
    "    \n",
    "    # Percorrendo cada furacão no dicionário\n",
    "    for values in hurricane_dictionary.values():\n",
    "        death_number = values['Deaths']\n",
    "        \n",
    "        # Determinando a classificação de mortalidade com base no número de mortes\n",
    "        if death_number == 0:\n",
    "            mortality_dict[0].append(values)\n",
    "        elif death_number <= 100:\n",
    "            mortality_dict[1].append(values)\n",
    "        elif death_number <= 500:\n",
    "            mortality_dict[2].append(values)\n",
    "        elif death_number <= 1000:\n",
    "            mortality_dict[3].append(values)\n",
    "        elif death_number <= 10000:\n",
    "            mortality_dict[4].append(values)\n",
    "        else:\n",
    "            mortality_dict[5].append(values)\n",
    "    \n",
    "    return mortality_dict\n"
   ]
  },
  {
   "cell_type": "markdown",
   "id": "199b0e1c",
   "metadata": {},
   "source": [
    "8. Write a function that finds the hurricane that caused the greatest damage, and how costly it was.\n",
    "\n",
    "   Test your function on your hurricane dictionary."
   ]
  },
  {
   "cell_type": "code",
   "execution_count": 46,
   "id": "b3dc79b4",
   "metadata": {},
   "outputs": [
    {
     "name": "stdout",
     "output_type": "stream",
     "text": [
      "The most damaged area was Katrina, that cost a total amount of $125,000,000,000.00\n"
     ]
    }
   ],
   "source": [
    "# 8\n",
    "# Calculating Hurricane Maximum Damage\n",
    "def hurricane_max_damage(dictionary):\n",
    "    max_damage = 0\n",
    "    damager_name = ''\n",
    "    for values in dictionary.values():\n",
    "        damage = values['Damage']\n",
    "        if damage == 'Damages not recorded':\n",
    "            continue\n",
    "            \n",
    "        float_damage = float(damage[:-1])\n",
    "        if damage[-1] == 'M':\n",
    "            float_damage *= 1000000\n",
    "        elif damage[-1] == 'B':\n",
    "            float_damage *= 1000000000\n",
    "\n",
    "        if float_damage >= max_damage:\n",
    "            max_damage = float_damage\n",
    "            damager_name = values['Name']\n",
    "\n",
    "    print(f'The most damaged area was {damager_name}, that cost a total amount of ${max_damage:,.2f}')\n",
    "            \n",
    "        \n",
    "    \n",
    "    \n",
    "# find highest damage inducing hurricane and its total cost\n",
    "hurricane_max_damage(hurricane_dictionary)"
   ]
  },
  {
   "cell_type": "markdown",
   "id": "58d22ddc",
   "metadata": {},
   "source": [
    "9. Lastly, you want to rate hurricanes according to how much damage they cause.\n",
    "\n",
    "   Write a function that rates hurricanes on a damage scale according to the following ratings, where the key is the rating and the value is the upper bound of damage for that rating.\n",
    "   ```py\n",
    "   damage_scale = {0: 0,\n",
    "   1: 100000000,\n",
    "   2: 1000000000,\n",
    "   3: 10000000000,\n",
    "   4: 50000000000}\n",
    "   ```\n",
    "   \n",
    "   For example, a hurricane with a `1` damage rating would have resulted in damages greater than `0` USD but less than or equal to `100000000` USD. A hurricane with a `5` damage rating would have resulted in damages greater than `50000000000` USD (talk about a lot of money).\n",
    "   \n",
    "   Store the hurricanes in a new dictionary where the keys are damage ratings and the values are lists containing a dictionary for each hurricane that falls into that damage rating.\n",
    "   \n",
    "   Test your function on your hurricane dictionary."
   ]
  },
  {
   "cell_type": "code",
   "execution_count": 62,
   "id": "e543f487",
   "metadata": {},
   "outputs": [
    {
     "data": {
      "text/plain": [
       "{0: [],\n",
       " 1: [{'Name': 'San Felipe II Okeechobee',\n",
       "   'Month': 'September',\n",
       "   'Year': 1928,\n",
       "   'Max_Sustained_Wind': 160,\n",
       "   'Areas_Affected': ['Lesser Antilles',\n",
       "    'The Bahamas',\n",
       "    'United States East Coast',\n",
       "    'Atlantic Canada'],\n",
       "   'Damage': '100M',\n",
       "   'Deaths': 4000},\n",
       "  {'Name': 'Cuba II',\n",
       "   'Month': 'November',\n",
       "   'Year': 1932,\n",
       "   'Max_Sustained_Wind': 175,\n",
       "   'Areas_Affected': ['Lesser Antilles',\n",
       "    'Jamaica',\n",
       "    'Cayman Islands',\n",
       "    'Cuba',\n",
       "    'The Bahamas',\n",
       "    'Bermuda'],\n",
       "   'Damage': '40M',\n",
       "   'Deaths': 3103},\n",
       "  {'Name': 'CubaBrownsville',\n",
       "   'Month': 'August',\n",
       "   'Year': 1933,\n",
       "   'Max_Sustained_Wind': 160,\n",
       "   'Areas_Affected': ['The Bahamas', 'Cuba', 'Florida', 'Texas', 'Tamaulipas'],\n",
       "   'Damage': '27.9M',\n",
       "   'Deaths': 179},\n",
       "  {'Name': 'Tampico',\n",
       "   'Month': 'September',\n",
       "   'Year': 1933,\n",
       "   'Max_Sustained_Wind': 160,\n",
       "   'Areas_Affected': ['Jamaica', 'Yucatn Peninsula'],\n",
       "   'Damage': '5M',\n",
       "   'Deaths': 184},\n",
       "  {'Name': 'Carol',\n",
       "   'Month': 'September',\n",
       "   'Year': 1953,\n",
       "   'Max_Sustained_Wind': 160,\n",
       "   'Areas_Affected': ['Bermuda', 'New England', 'Atlantic Canada'],\n",
       "   'Damage': '2M',\n",
       "   'Deaths': 5},\n",
       "  {'Name': 'Janet',\n",
       "   'Month': 'September',\n",
       "   'Year': 1955,\n",
       "   'Max_Sustained_Wind': 175,\n",
       "   'Areas_Affected': ['Lesser Antilles', 'Central America'],\n",
       "   'Damage': '65.8M',\n",
       "   'Deaths': 1023},\n",
       "  {'Name': 'Hattie',\n",
       "   'Month': 'October',\n",
       "   'Year': 1961,\n",
       "   'Max_Sustained_Wind': 160,\n",
       "   'Areas_Affected': ['Central America'],\n",
       "   'Damage': '60.3M',\n",
       "   'Deaths': 319},\n",
       "  {'Name': 'Edith',\n",
       "   'Month': 'September',\n",
       "   'Year': 1971,\n",
       "   'Max_Sustained_Wind': 160,\n",
       "   'Areas_Affected': ['The Caribbean',\n",
       "    'Central America',\n",
       "    'Mexico',\n",
       "    'United States Gulf Coast'],\n",
       "   'Damage': '25.4M',\n",
       "   'Deaths': 37}],\n",
       " 2: [{'Name': 'New England',\n",
       "   'Month': 'September',\n",
       "   'Year': 1938,\n",
       "   'Max_Sustained_Wind': 160,\n",
       "   'Areas_Affected': ['Southeastern United States',\n",
       "    'Northeastern United States',\n",
       "    'Southwestern Quebec'],\n",
       "   'Damage': '306M',\n",
       "   'Deaths': 682},\n",
       "  {'Name': 'Carla',\n",
       "   'Month': 'September',\n",
       "   'Year': 1961,\n",
       "   'Max_Sustained_Wind': 175,\n",
       "   'Areas_Affected': ['Texas', 'Louisiana', 'Midwestern United States'],\n",
       "   'Damage': '326M',\n",
       "   'Deaths': 43},\n",
       "  {'Name': 'Beulah',\n",
       "   'Month': 'September',\n",
       "   'Year': 1967,\n",
       "   'Max_Sustained_Wind': 160,\n",
       "   'Areas_Affected': ['The Caribbean', 'Mexico', 'Texas'],\n",
       "   'Damage': '208M',\n",
       "   'Deaths': 688},\n",
       "  {'Name': 'Felix',\n",
       "   'Month': 'September',\n",
       "   'Year': 2007,\n",
       "   'Max_Sustained_Wind': 175,\n",
       "   'Areas_Affected': ['Nicaragua', 'Honduras'],\n",
       "   'Damage': '720M',\n",
       "   'Deaths': 133}],\n",
       " 3: [{'Name': 'Camille',\n",
       "   'Month': 'August',\n",
       "   'Year': 1969,\n",
       "   'Max_Sustained_Wind': 175,\n",
       "   'Areas_Affected': ['Cuba', 'United States Gulf Coast'],\n",
       "   'Damage': '1.42B',\n",
       "   'Deaths': 259},\n",
       "  {'Name': 'David',\n",
       "   'Month': 'August',\n",
       "   'Year': 1979,\n",
       "   'Max_Sustained_Wind': 175,\n",
       "   'Areas_Affected': ['The Caribbean', 'United States East coast'],\n",
       "   'Damage': '1.54B',\n",
       "   'Deaths': 2068},\n",
       "  {'Name': 'Allen',\n",
       "   'Month': 'August',\n",
       "   'Year': 1980,\n",
       "   'Max_Sustained_Wind': 190,\n",
       "   'Areas_Affected': ['The Caribbean',\n",
       "    'Yucatn Peninsula',\n",
       "    'Mexico',\n",
       "    'South Texas'],\n",
       "   'Damage': '1.24B',\n",
       "   'Deaths': 269},\n",
       "  {'Name': 'Gilbert',\n",
       "   'Month': 'September',\n",
       "   'Year': 1988,\n",
       "   'Max_Sustained_Wind': 185,\n",
       "   'Areas_Affected': ['Jamaica',\n",
       "    'Venezuela',\n",
       "    'Central America',\n",
       "    'Hispaniola',\n",
       "    'Mexico'],\n",
       "   'Damage': '7.1B',\n",
       "   'Deaths': 318},\n",
       "  {'Name': 'Hugo',\n",
       "   'Month': 'September',\n",
       "   'Year': 1989,\n",
       "   'Max_Sustained_Wind': 160,\n",
       "   'Areas_Affected': ['The Caribbean', 'United States East Coast'],\n",
       "   'Damage': '10B',\n",
       "   'Deaths': 107},\n",
       "  {'Name': 'Mitch',\n",
       "   'Month': 'October',\n",
       "   'Year': 1998,\n",
       "   'Max_Sustained_Wind': 180,\n",
       "   'Areas_Affected': ['Central America', 'Yucatn Peninsula', 'South Florida'],\n",
       "   'Damage': '6.2B',\n",
       "   'Deaths': 19325},\n",
       "  {'Name': 'Isabel',\n",
       "   'Month': 'September',\n",
       "   'Year': 2003,\n",
       "   'Max_Sustained_Wind': 165,\n",
       "   'Areas_Affected': ['Greater Antilles',\n",
       "    'Bahamas',\n",
       "    'Eastern United States',\n",
       "    'Ontario'],\n",
       "   'Damage': '5.37B',\n",
       "   'Deaths': 51},\n",
       "  {'Name': 'Emily',\n",
       "   'Month': 'July',\n",
       "   'Year': 2005,\n",
       "   'Max_Sustained_Wind': 160,\n",
       "   'Areas_Affected': ['Windward Islands', 'Jamaica', 'Mexico', 'Texas'],\n",
       "   'Damage': '1.01B',\n",
       "   'Deaths': 17},\n",
       "  {'Name': 'Dean',\n",
       "   'Month': 'August',\n",
       "   'Year': 2007,\n",
       "   'Max_Sustained_Wind': 175,\n",
       "   'Areas_Affected': ['The Caribbean', 'Central America'],\n",
       "   'Damage': '1.76B',\n",
       "   'Deaths': 45}],\n",
       " 4: [{'Name': 'Andrew',\n",
       "   'Month': 'August',\n",
       "   'Year': 1992,\n",
       "   'Max_Sustained_Wind': 175,\n",
       "   'Areas_Affected': ['The Bahamas', 'Florida', 'United States Gulf Coast'],\n",
       "   'Damage': '26.5B',\n",
       "   'Deaths': 65},\n",
       "  {'Name': 'Ivan',\n",
       "   'Month': 'September',\n",
       "   'Year': 2004,\n",
       "   'Max_Sustained_Wind': 165,\n",
       "   'Areas_Affected': ['The Caribbean',\n",
       "    'Venezuela',\n",
       "    'United States Gulf Coast'],\n",
       "   'Damage': '23.3B',\n",
       "   'Deaths': 124},\n",
       "  {'Name': 'Rita',\n",
       "   'Month': 'September',\n",
       "   'Year': 2005,\n",
       "   'Max_Sustained_Wind': 180,\n",
       "   'Areas_Affected': ['Cuba', 'United States Gulf Coast'],\n",
       "   'Damage': '12B',\n",
       "   'Deaths': 125},\n",
       "  {'Name': 'Wilma',\n",
       "   'Month': 'October',\n",
       "   'Year': 2005,\n",
       "   'Max_Sustained_Wind': 185,\n",
       "   'Areas_Affected': ['Greater Antilles', 'Central America', 'Florida'],\n",
       "   'Damage': '29.4B',\n",
       "   'Deaths': 87},\n",
       "  {'Name': 'Matthew',\n",
       "   'Month': 'October',\n",
       "   'Year': 2016,\n",
       "   'Max_Sustained_Wind': 165,\n",
       "   'Areas_Affected': ['Antilles',\n",
       "    'Venezuela',\n",
       "    'Colombia',\n",
       "    'United States East Coast',\n",
       "    'Atlantic Canada'],\n",
       "   'Damage': '15.1B',\n",
       "   'Deaths': 603},\n",
       "  {'Name': 'Michael',\n",
       "   'Month': 'October',\n",
       "   'Year': 2018,\n",
       "   'Max_Sustained_Wind': 160,\n",
       "   'Areas_Affected': ['Central America',\n",
       "    'United States Gulf Coast (especially Florida Panhandle)'],\n",
       "   'Damage': '25.1B',\n",
       "   'Deaths': 74}],\n",
       " 5: [{'Name': 'Katrina',\n",
       "   'Month': 'August',\n",
       "   'Year': 2005,\n",
       "   'Max_Sustained_Wind': 175,\n",
       "   'Areas_Affected': ['Bahamas', 'United States Gulf Coast'],\n",
       "   'Damage': '125B',\n",
       "   'Deaths': 1836},\n",
       "  {'Name': 'Irma',\n",
       "   'Month': 'September',\n",
       "   'Year': 2017,\n",
       "   'Max_Sustained_Wind': 180,\n",
       "   'Areas_Affected': ['Cape Verde',\n",
       "    'The Caribbean',\n",
       "    'British Virgin Islands',\n",
       "    'U.S. Virgin Islands',\n",
       "    'Cuba',\n",
       "    'Florida'],\n",
       "   'Damage': '64.8B',\n",
       "   'Deaths': 138},\n",
       "  {'Name': 'Maria',\n",
       "   'Month': 'September',\n",
       "   'Year': 2017,\n",
       "   'Max_Sustained_Wind': 175,\n",
       "   'Areas_Affected': ['Lesser Antilles',\n",
       "    'Virgin Islands',\n",
       "    'Puerto Rico',\n",
       "    'Dominican Republic',\n",
       "    'Turks and Caicos Islands'],\n",
       "   'Damage': '91.6B',\n",
       "   'Deaths': 3057}]}"
      ]
     },
     "execution_count": 62,
     "metadata": {},
     "output_type": "execute_result"
    }
   ],
   "source": [
    "def hurricane_damage(hurricane_dictionary):\n",
    "    # Definindo os limites de mortalidade\n",
    "    damage_scale = {0: 0,1: 100000000,2: 1000000000,3: 10000000000,4: 50000000000}\n",
    "    \n",
    "    # Dicionário final para categorizar os furacões\n",
    "    damage_dict = {0: [], 1: [], 2: [], 3: [], 4: [], 5: []}\n",
    "    \n",
    "    # Percorrendo cada furacão no dicionário\n",
    "    for values in hurricane_dictionary.values():\n",
    "        damage_number = values['Damage']\n",
    "        if damage_number == 'Damages not recorded':\n",
    "            continue\n",
    "        float_damage = float(damage_number[:-1])\n",
    "        if damage_number[-1] == 'M':\n",
    "            float_damage *= 1000000\n",
    "        elif damage_number[-1] == 'B':\n",
    "            float_damage *= 1000000000\n",
    "\n",
    "        damage_number = float_damage\n",
    "        # Determinando a classificação de mortalidade com base no número de mortes\n",
    "        if damage_number == 0:\n",
    "            damage_dict[0].append(values)\n",
    "        elif damage_number <= 100000000:\n",
    "            damage_dict[1].append(values)\n",
    "        elif damage_number <= 1000000000:\n",
    "            damage_dict[2].append(values)\n",
    "        elif damage_number <= 10000000000:\n",
    "            damage_dict[3].append(values)\n",
    "        elif damage_number <= 50000000000:\n",
    "            damage_dict[4].append(values)\n",
    "        else:\n",
    "            damage_dict[5].append(values)\n",
    "    \n",
    "    return damage_dict\n",
    "\n",
    "hurricane_damage(hurricane_dictionary)"
   ]
  },
  {
   "cell_type": "markdown",
   "id": "928c5fd2",
   "metadata": {},
   "source": [
    "## Solution"
   ]
  },
  {
   "cell_type": "markdown",
   "id": "252616a3",
   "metadata": {},
   "source": [
    "Great work! View the **Hurricane Analysis_Solution.ipynb** file or visit [our forums](https://discuss.codecademy.com/t/hurricane-analysis-challenge-project-python/462363) to compare your project to our sample solution code. You can also learn how to host your own solution on GitHub so you can share it with other learners! Your solution might look different than ours, and that's okay! There are multiple ways to solve these projects, and you'll learn more by seeing others' code."
   ]
  },
  {
   "cell_type": "code",
   "execution_count": null,
   "id": "da8f7141",
   "metadata": {},
   "outputs": [],
   "source": []
  },
  {
   "cell_type": "code",
   "execution_count": null,
   "id": "4500d08b-7ece-4b2a-87d6-d5cffe684798",
   "metadata": {},
   "outputs": [],
   "source": []
  },
  {
   "cell_type": "code",
   "execution_count": null,
   "id": "71a11b60-f609-4924-8273-f8ceba5423e5",
   "metadata": {},
   "outputs": [],
   "source": [
    "        "
   ]
  },
  {
   "cell_type": "code",
   "execution_count": null,
   "id": "56ab2fe2-f259-49bb-8740-ed7b03a07f2d",
   "metadata": {},
   "outputs": [],
   "source": []
  },
  {
   "cell_type": "code",
   "execution_count": null,
   "id": "71faf295-a712-49ba-9454-5f2542c097e3",
   "metadata": {},
   "outputs": [],
   "source": []
  }
 ],
 "metadata": {
  "kernelspec": {
   "display_name": "Python 3 (ipykernel)",
   "language": "python",
   "name": "python3"
  },
  "language_info": {
   "codemirror_mode": {
    "name": "ipython",
    "version": 3
   },
   "file_extension": ".py",
   "mimetype": "text/x-python",
   "name": "python",
   "nbconvert_exporter": "python",
   "pygments_lexer": "ipython3",
   "version": "3.12.4"
  },
  "vscode": {
   "interpreter": {
    "hash": "b784193cf0f9970b27f3c12f21dbff8ed97e3cf923dc23fe210654173bc3fdd0"
   }
  }
 },
 "nbformat": 4,
 "nbformat_minor": 5
}
